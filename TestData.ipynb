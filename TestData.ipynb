{
 "cells": [
  {
   "cell_type": "code",
   "execution_count": 1,
   "metadata": {},
   "outputs": [],
   "source": [
    "import pandas as pd\n",
    "from sklearn.preprocessing import LabelEncoder, StandardScaler\n",
    "from sklearn.model_selection import train_test_split\n",
    "from sklearn.ensemble import RandomForestClassifier\n",
    "from sklearn.svm import SVC\n",
    "from sklearn.neighbors import KNeighborsClassifier\n",
    "from sklearn.metrics import classification_report,confusion_matrix,accuracy_score\n",
    "from matplotlib import pyplot as plt\n",
    "df = pd.read_csv('MobileData.csv',usecols=['Name','ProcessUnit','Ram','Primary Camera','Secondray Camera','Design','Display','price'])\n",
    "df ['Average'] = df.drop('price',axis=1).mean(axis=1)\n",
    "df['UserDemand'] = ['70%' if row['price']>20000 and row['price']<=25000 and row['Average']>=3.5 else '50%' if row['price']>20000 and row['price']<=25000 and row['Average']>=3.0 and row['Average']<3.5 or row['price']>15000 and row['price']<=20000 and row['Average']>=3.0 and row['Average']<3.5 else '60%' if row['price']>25000 and row['price']<=30000 and row['Average']>=3.8 or row['price']>30000 and row['price']<=35000 and row['Average']>=3.8 else '40%' if row['price']>35000 and row['price']<=40000 and row['Average']>=4  or row['price']>25000 and row['price']<=30000 and row['Average']>=3.0 and row['Average']<3.5 or row['price']>40000 and row['Average']>=4.0 else '20%' if row['price']>40000 and row['Average']>=3.0 and row['Average']<3.5 else '30%' for index,row in df.iterrows()]\n",
    "df['Prediction'] = ['lot Profit' if row['UserDemand'] == '70%' or row['UserDemand'] == '60%' else 'Medium Profit' if row['UserDemand'] == '40%' or row['UserDemand'] == '50%' else 'Low Profit' for index,row  in df.iterrows()]\n",
    "label_quality = LabelEncoder()\n",
    "df['Prediction'] = label_quality.fit_transform(df['Prediction'])\n",
    "df['UserDemand'] = label_quality.fit_transform(df['UserDemand'])\n",
    "X = df.drop(['Prediction','Name','ProcessUnit','Ram','Primary Camera','Secondray Camera','Design','Display'],axis=1)\n",
    "y = df['Prediction']\n"
   ]
  },
  {
   "cell_type": "code",
   "execution_count": 2,
   "metadata": {},
   "outputs": [
    {
     "data": {
      "text/plain": [
       "<matplotlib.collections.PathCollection at 0x14eb0950>"
      ]
     },
     "execution_count": 2,
     "metadata": {},
     "output_type": "execute_result"
    },
    {
     "data": {
      "image/png": "[encoded data removed]",
      "text/plain": [
       "<Figure size 1440x216 with 2 Axes>"
      ]
     },
     "metadata": {
      "needs_background": "light"
     },
     "output_type": "display_data"
    }
   ],
   "source": [
    "plt.figure(1, figsize=(20, 3))\n",
    "plt.subplot(131)\n",
    "plt.scatter(X['price'],X['UserDemand'])\n",
    "plt.subplot(132)\n",
    "plt.scatter(X['price'],y)"
   ]
  },
  {
   "cell_type": "code",
   "execution_count": 3,
   "metadata": {},
   "outputs": [
    {
     "data": {
      "text/plain": [
       "array([0])"
      ]
     },
     "execution_count": 3,
     "metadata": {},
     "output_type": "execute_result"
    }
   ],
   "source": [
    "clf = SVC(gamma='auto')\n",
    "clf.fit(X,y)\n",
    "clf.predict([[25000,4,5]])"
   ]
  },
  {
   "cell_type": "code",
   "execution_count": 4,
   "metadata": {},
   "outputs": [
    {
     "data": {
      "text/plain": [
       "array([2])"
      ]
     },
     "execution_count": 4,
     "metadata": {},
     "output_type": "execute_result"
    }
   ],
   "source": [
    "knn = KNeighborsClassifier(n_neighbors=1)\n",
    "knn.fit(X,y)\n",
    "knn.predict([[25000,3.5,3]])"
   ]
  }
 ],
 "metadata": {
  "kernelspec": {
   "display_name": "Python 3",
   "language": "python",
   "name": "python3"
  },
  "language_info": {
   "codemirror_mode": {
    "name": "ipython",
    "version": 3
   },
   "file_extension": ".py",
   "mimetype": "text/x-python",
   "name": "python",
   "nbconvert_exporter": "python",
   "pygments_lexer": "ipython3",
   "version": "3.7.2"
  }
 },
 "nbformat": 4,
 "nbformat_minor": 2
}
